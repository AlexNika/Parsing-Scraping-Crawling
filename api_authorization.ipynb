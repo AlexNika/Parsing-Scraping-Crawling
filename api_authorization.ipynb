{
 "cells": [
  {
   "cell_type": "code",
   "execution_count": 1,
   "metadata": {},
   "outputs": [],
   "source": [
    "import requests\n",
    "from base64 import urlsafe_b64encode\n",
    "from pprint import pprint\n",
    "import json"
   ]
  },
  {
   "cell_type": "code",
   "execution_count": 16,
   "metadata": {},
   "outputs": [
    {
     "name": "stdout",
     "output_type": "stream",
     "text": [
      "The Web Shrinker Website Categorization API utilizes cloud computing and machine learning to classify websites into a set of categories. The the website category lookup API can be used in a variety... \n",
      "\n",
      "Вебсайт LAMODA.RU в кодировке base-64/utf-8: bGFtb2RhLnJ1\n",
      "API-URL вебсайта: https://api.webshrinker.com/hosts/v3/bGFtb2RhLnJ1\n"
     ]
    }
   ],
   "source": [
    "print('The Web Shrinker Website Categorization API utilizes cloud \\\n",
    "computing and machine learning to classify websites into a \\\n",
    "set of categories. The the website category lookup API can \\\n",
    "be used in a variety...', '\\n')\n",
    "website = urlsafe_b64encode('lamoda.ru'.encode()).decode('utf-8')\n",
    "print(f'Вебсайт LAMODA.RU в кодировке base-64/utf-8: {website}')\n",
    "key = 'tlamCpF7GecsH43btYxQ'\n",
    "secret_key = 'uKtv9G7ejP9nnpaZ8mWo'\n",
    "api_url = 'https://api.webshrinker.com/hosts/v3/%s' % website\n",
    "print(f'API-URL вебсайта: {api_url}')"
   ]
  },
  {
   "cell_type": "code",
   "execution_count": 3,
   "metadata": {},
   "outputs": [],
   "source": [
    "response = requests.get(api_url, auth=(key, secret_key))"
   ]
  },
  {
   "cell_type": "code",
   "execution_count": 4,
   "metadata": {},
   "outputs": [
    {
     "name": "stdout",
     "output_type": "stream",
     "text": [
      "{'data': [{'addresses': {'ipv4': {'178.248.232.33': ['2018-08-31T14:03:51Z',\n",
      "                                                     '2018-07-31T15:42:48Z',\n",
      "                                                     '2018-06-30T17:54:15Z',\n",
      "                                                     '2018-05-31T14:37:06Z',\n",
      "                                                     '2018-01-28T22:30:26Z',\n",
      "                                                     '2017-12-29T19:59:26Z',\n",
      "                                                     '2017-12-29T16:05:25Z',\n",
      "                                                     '2017-09-29T15:11:58Z',\n",
      "                                                     '2017-07-08T23:23:21Z',\n",
      "                                                     '2016-10-28T23:23:24Z']}},\n",
      "           'categories': ['shopping'],\n",
      "           'end_date': '2019-10-31',\n",
      "           'host': 'lamoda.ru',\n",
      "           'language': 'ru',\n",
      "           'related': ['pa-mx-01v.lamoda.ru',\n",
      "                       'zt35.lamoda.ru',\n",
      "                       'lap.lamoda.ru',\n",
      "                       'api.lamoda.ru',\n",
      "                       'zt36.lamoda.ru',\n",
      "                       'ns-d1.lamoda.ru',\n",
      "                       'alt1dtln.lamoda.ru',\n",
      "                       'ns2.lamoda.ru',\n",
      "                       'retargeting.lamoda.ru',\n",
      "                       'push.lamoda.ru',\n",
      "                       'ns1.lamoda.ru',\n",
      "                       'affiliates-kz.lamoda.ru',\n",
      "                       'avpn.lamoda.ru',\n",
      "                       'moxa1.lamoda.ru',\n",
      "                       'abcmedia.lamoda.ru',\n",
      "                       'mxs01.lamoda.ru',\n",
      "                       'feedback.lamoda.ru',\n",
      "                       'info.lamoda.ru',\n",
      "                       'zt-net.lamoda.ru',\n",
      "                       'apigw.lamoda.ru',\n",
      "                       'jobs.lamoda.ru',\n",
      "                       'zt-bcast.lamoda.ru',\n",
      "                       'company.lamoda.ru',\n",
      "                       'dm.lamoda.ru',\n",
      "                       'levpn.lamoda.ru',\n",
      "                       'ldcsa.lamoda.ru',\n",
      "                       'ssh-landing.lamoda.ru',\n",
      "                       'zhit.lamoda.ru',\n",
      "                       'notification.lamoda.ru',\n",
      "                       'mxs02.lamoda.ru',\n",
      "                       'akado-gate.lamoda.ru',\n",
      "                       'moxa2.lamoda.ru',\n",
      "                       'm.lamoda.ru',\n",
      "                       'tech-mx.lamoda.ru',\n",
      "                       'mapps.lamoda.ru',\n",
      "                       'zt.lamoda.ru',\n",
      "                       'dtln.lamoda.ru',\n",
      "                       'zt38.lamoda.ru',\n",
      "                       'sentry-js.lamoda.ru',\n",
      "                       'ns-d2.lamoda.ru',\n",
      "                       'tech.lamoda.ru',\n",
      "                       'ns3.lamoda.ru'],\n",
      "           'start_date': '2016-08-01'}],\n",
      " 'paging': {'count': 43, 'cursors': {}, 'next': ''}}\n"
     ]
    }
   ],
   "source": [
    "pprint(response.json())"
   ]
  },
  {
   "cell_type": "code",
   "execution_count": 5,
   "metadata": {},
   "outputs": [],
   "source": [
    "status_code = response.status_code\n",
    "data = response.json()"
   ]
  },
  {
   "cell_type": "code",
   "execution_count": 6,
   "metadata": {},
   "outputs": [
    {
     "name": "stdout",
     "output_type": "stream",
     "text": [
      "Категоризация сайта -- LAMODA.RU -- с помощью AI сервиса WEBSHRINKER.COM\n",
      "Получен код ответа HTTP request: 200 \n",
      "\n",
      "Сайт LAMODA.RU относится к категории: shopping\n"
     ]
    }
   ],
   "source": [
    "print(f'Категоризация сайта -- {website.decode().upper()} -- с помощью AI сервиса WEBSHRINKER.COM')\n",
    "print(f'Получен код ответа HTTP request: {status_code}', '\\n')\n",
    "if status_code == 200:\n",
    "    print(f'Сайт {website.decode().upper()} относится к категории:', *data['data'][0]['categories'])\n",
    "elif status_code == 400:\n",
    "    print('Неверный или неправильный HTTP-запрос')\n",
    "elif status_code == 401:\n",
    "    print('Несанкционированный доступ-проверьте права доступа и секретный ключ')\n",
    "elif status_code == 402:\n",
    "    print('Достигнут лимит запросов по тарифу аккаунта. Перейдите на платный тариф')\n",
    "else:\n",
    "    print('Общая ошибка, повторите запрос')"
   ]
  }
 ],
 "metadata": {
  "kernelspec": {
   "display_name": "Python 3",
   "language": "python",
   "name": "python3"
  },
  "language_info": {
   "codemirror_mode": {
    "name": "ipython",
    "version": 3
   },
   "file_extension": ".py",
   "mimetype": "text/x-python",
   "name": "python",
   "nbconvert_exporter": "python",
   "pygments_lexer": "ipython3",
   "version": "3.7.2"
  }
 },
 "nbformat": 4,
 "nbformat_minor": 2
}
